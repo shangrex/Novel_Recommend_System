{
 "metadata": {
  "language_info": {
   "codemirror_mode": {
    "name": "ipython",
    "version": 3
   },
   "file_extension": ".py",
   "mimetype": "text/x-python",
   "name": "python",
   "nbconvert_exporter": "python",
   "pygments_lexer": "ipython3",
   "version": "3.8.5-final"
  },
  "orig_nbformat": 2,
  "kernelspec": {
   "name": "python38564bitnovelnlppipenv13efe7d3d22e4f82b58aa8fd265a8ca0",
   "display_name": "Python 3.8.5 64-bit ('Novel_NLP': pipenv)",
   "language": "python"
  }
 },
 "nbformat": 4,
 "nbformat_minor": 2,
 "cells": [
  {
   "cell_type": "code",
   "execution_count": 2,
   "metadata": {},
   "outputs": [],
   "source": [
    "import pandas as pd \n",
    "import numpy as np \n",
    "import sklearn\n",
    "import json\n",
    "import jieba\n",
    "from tqdm import tqdm\n",
    "from matplotlib import pyplot as plt\n",
    "\n",
    "# f = open('stopwords.txt', 'r', encoding = 'UTF-8')\n",
    "# stopwords = []\n",
    "# for i in f.read():\n",
    "#     stopwords.append(i)\n",
    "# f.close()"
   ]
  },
  {
   "cell_type": "code",
   "execution_count": 8,
   "metadata": {},
   "outputs": [
    {
     "output_type": "stream",
     "name": "stderr",
     "text": [
      "100%|██████████| 255/255 [00:06<00:00, 39.52it/s]\n",
      "100%|██████████| 57/57 [00:03<00:00, 18.69it/s]\n"
     ]
    },
    {
     "output_type": "execute_result",
     "data": {
      "text/plain": [
       "       author                                         paragraphs        title  \\\n",
       "0         宋太祖               [欲出未出光辣達，千山萬山如火發。, 須臾走向天上來，逐却殘星趕却月。]           日詩   \n",
       "1         宋太祖                                 [未離海底千山黑，纔到天中萬國明。]            句   \n",
       "2         幸夤遜  [滿目江山四望幽，白雲高卷嶂烟收。, 日回禽影穿疏木，風遞猿聲入小樓。, 遠岫似屏橫碧落，斷...      登戎州江樓閑望   \n",
       "3         幸夤遜               [片片飛來靜又閑，樓頭江上復山前。, 飄零盡日不歸去，帖破清光萬里天。]            雪   \n",
       "4         幸夤遜  [因登巨石知來處，勃勃元生綠蘚痕。, 靜即等閑藏草木，動時頃刻徧乾坤。, 橫天未必朋元惡，捧...            雲   \n",
       "...       ...                                                ...          ...   \n",
       "311264     佚名                 [欲求好婦，立在津口。, 婦立水傍，好醜自彰。, （同前卷十六）。]  齊人爲妬婦津語（題擬）   \n",
       "311265     佚名               [鄉貢進士，不博上州刺史。, （《太平廣記》卷一八一引《盧氏雜說》）。]  文宗時舉場中語（題擬）   \n",
       "311266     佚名                   [丑侯䁸䁸，多用半裝。, （《續談助》卷三引《牛羊日曆》引）。]          京師語   \n",
       "311267     佚名                        [今年長安人喫人。, （《入唐求法巡禮行記》卷四）。]      會昌中長安人語   \n",
       "311268     佚名         [當時婦棄夫，今日夫棄婦。, 若不逞丹青，空房應獨守。, （見《雲溪友議》卷上）。]           里語   \n",
       "\n",
       "                                          id tags  \n",
       "0       08e41396-2809-423d-9bbc-1e6fb24c0ca1  NaN  \n",
       "1       adaa27a4-389b-48ca-8021-80f0471433c4  NaN  \n",
       "2       05efccd1-3be1-44e8-a38a-78b9f9715a1f  NaN  \n",
       "3       f7a148f0-e5ea-413e-8647-da1650104682  NaN  \n",
       "4       f70f9128-5221-4bdc-9dbf-63492c40e826  NaN  \n",
       "...                                      ...  ...  \n",
       "311264  facbaca3-b3e1-49e6-960f-c1fbaabc65ad  NaN  \n",
       "311265  f0df7b0d-b967-4eda-9e18-d08c6681f6ff  NaN  \n",
       "311266  4fa1d33a-afe1-45dd-99cb-0ced2bb39459  NaN  \n",
       "311267  e4ba6315-9ae4-4617-a02d-376be81fc091  NaN  \n",
       "311268  57829cc1-4068-4cdd-b61c-ed97faff18a8  NaN  \n",
       "\n",
       "[311269 rows x 5 columns]"
      ],
      "text/html": "<div>\n<style scoped>\n    .dataframe tbody tr th:only-of-type {\n        vertical-align: middle;\n    }\n\n    .dataframe tbody tr th {\n        vertical-align: top;\n    }\n\n    .dataframe thead th {\n        text-align: right;\n    }\n</style>\n<table border=\"1\" class=\"dataframe\">\n  <thead>\n    <tr style=\"text-align: right;\">\n      <th></th>\n      <th>author</th>\n      <th>paragraphs</th>\n      <th>title</th>\n      <th>id</th>\n      <th>tags</th>\n    </tr>\n  </thead>\n  <tbody>\n    <tr>\n      <th>0</th>\n      <td>宋太祖</td>\n      <td>[欲出未出光辣達，千山萬山如火發。, 須臾走向天上來，逐却殘星趕却月。]</td>\n      <td>日詩</td>\n      <td>08e41396-2809-423d-9bbc-1e6fb24c0ca1</td>\n      <td>NaN</td>\n    </tr>\n    <tr>\n      <th>1</th>\n      <td>宋太祖</td>\n      <td>[未離海底千山黑，纔到天中萬國明。]</td>\n      <td>句</td>\n      <td>adaa27a4-389b-48ca-8021-80f0471433c4</td>\n      <td>NaN</td>\n    </tr>\n    <tr>\n      <th>2</th>\n      <td>幸夤遜</td>\n      <td>[滿目江山四望幽，白雲高卷嶂烟收。, 日回禽影穿疏木，風遞猿聲入小樓。, 遠岫似屏橫碧落，斷...</td>\n      <td>登戎州江樓閑望</td>\n      <td>05efccd1-3be1-44e8-a38a-78b9f9715a1f</td>\n      <td>NaN</td>\n    </tr>\n    <tr>\n      <th>3</th>\n      <td>幸夤遜</td>\n      <td>[片片飛來靜又閑，樓頭江上復山前。, 飄零盡日不歸去，帖破清光萬里天。]</td>\n      <td>雪</td>\n      <td>f7a148f0-e5ea-413e-8647-da1650104682</td>\n      <td>NaN</td>\n    </tr>\n    <tr>\n      <th>4</th>\n      <td>幸夤遜</td>\n      <td>[因登巨石知來處，勃勃元生綠蘚痕。, 靜即等閑藏草木，動時頃刻徧乾坤。, 橫天未必朋元惡，捧...</td>\n      <td>雲</td>\n      <td>f70f9128-5221-4bdc-9dbf-63492c40e826</td>\n      <td>NaN</td>\n    </tr>\n    <tr>\n      <th>...</th>\n      <td>...</td>\n      <td>...</td>\n      <td>...</td>\n      <td>...</td>\n      <td>...</td>\n    </tr>\n    <tr>\n      <th>311264</th>\n      <td>佚名</td>\n      <td>[欲求好婦，立在津口。, 婦立水傍，好醜自彰。, （同前卷十六）。]</td>\n      <td>齊人爲妬婦津語（題擬）</td>\n      <td>facbaca3-b3e1-49e6-960f-c1fbaabc65ad</td>\n      <td>NaN</td>\n    </tr>\n    <tr>\n      <th>311265</th>\n      <td>佚名</td>\n      <td>[鄉貢進士，不博上州刺史。, （《太平廣記》卷一八一引《盧氏雜說》）。]</td>\n      <td>文宗時舉場中語（題擬）</td>\n      <td>f0df7b0d-b967-4eda-9e18-d08c6681f6ff</td>\n      <td>NaN</td>\n    </tr>\n    <tr>\n      <th>311266</th>\n      <td>佚名</td>\n      <td>[丑侯䁸䁸，多用半裝。, （《續談助》卷三引《牛羊日曆》引）。]</td>\n      <td>京師語</td>\n      <td>4fa1d33a-afe1-45dd-99cb-0ced2bb39459</td>\n      <td>NaN</td>\n    </tr>\n    <tr>\n      <th>311267</th>\n      <td>佚名</td>\n      <td>[今年長安人喫人。, （《入唐求法巡禮行記》卷四）。]</td>\n      <td>會昌中長安人語</td>\n      <td>e4ba6315-9ae4-4617-a02d-376be81fc091</td>\n      <td>NaN</td>\n    </tr>\n    <tr>\n      <th>311268</th>\n      <td>佚名</td>\n      <td>[當時婦棄夫，今日夫棄婦。, 若不逞丹青，空房應獨守。, （見《雲溪友議》卷上）。]</td>\n      <td>里語</td>\n      <td>57829cc1-4068-4cdd-b61c-ed97faff18a8</td>\n      <td>NaN</td>\n    </tr>\n  </tbody>\n</table>\n<p>311269 rows × 5 columns</p>\n</div>"
     },
     "metadata": {},
     "execution_count": 8
    }
   ],
   "source": [
    "poet = pd.DataFrame()\n",
    "#read song poet 255, 57\n",
    "for i in tqdm(range(255)):\n",
    "    f = pd.read_json('data/json/poet.song.{}.json'.format(i*1000))\n",
    "    poet = poet.append(f)\n",
    "for i in tqdm(range(57)):\n",
    "    f = pd.read_json('data/json/poet.tang.{}.json'.format(i*1000))\n",
    "    poet = poet.append(f)\n",
    "poet.reset_index(drop=True)"
   ]
  },
  {
   "cell_type": "code",
   "execution_count": 24,
   "metadata": {},
   "outputs": [
    {
     "output_type": "error",
     "ename": "ValueError",
     "evalue": "Expected 2D array, got 1D array instead:\narray=['宋太祖' '宋太祖' '幸夤遜' ... '佚名' '佚名' '佚名'].\nReshape your data either using array.reshape(-1, 1) if your data has a single feature or array.reshape(1, -1) if it contains a single sample.",
     "traceback": [
      "\u001b[0;31m---------------------------------------------------------------------------\u001b[0m",
      "\u001b[0;31mValueError\u001b[0m                                Traceback (most recent call last)",
      "\u001b[0;32m<ipython-input-24-3db4343cc034>\u001b[0m in \u001b[0;36m<module>\u001b[0;34m\u001b[0m\n\u001b[1;32m      1\u001b[0m \u001b[0;32mfrom\u001b[0m \u001b[0msklearn\u001b[0m \u001b[0;32mimport\u001b[0m \u001b[0mpreprocessing\u001b[0m\u001b[0;34m\u001b[0m\u001b[0;34m\u001b[0m\u001b[0m\n\u001b[1;32m      2\u001b[0m \u001b[0mencoder\u001b[0m \u001b[0;34m=\u001b[0m \u001b[0mpreprocessing\u001b[0m\u001b[0;34m.\u001b[0m\u001b[0mOneHotEncoder\u001b[0m\u001b[0;34m(\u001b[0m\u001b[0;34m)\u001b[0m\u001b[0;34m\u001b[0m\u001b[0;34m\u001b[0m\u001b[0m\n\u001b[0;32m----> 3\u001b[0;31m \u001b[0mencoder\u001b[0m\u001b[0;34m.\u001b[0m\u001b[0mfit\u001b[0m\u001b[0;34m(\u001b[0m\u001b[0mpoet\u001b[0m\u001b[0;34m.\u001b[0m\u001b[0mauthor\u001b[0m\u001b[0;34m.\u001b[0m\u001b[0mvalues\u001b[0m\u001b[0;34m)\u001b[0m\u001b[0;34m\u001b[0m\u001b[0;34m\u001b[0m\u001b[0m\n\u001b[0m\u001b[1;32m      4\u001b[0m \u001b[0mprint\u001b[0m\u001b[0;34m(\u001b[0m\u001b[0mencoder\u001b[0m\u001b[0;34m.\u001b[0m\u001b[0mtransform\u001b[0m\u001b[0;34m(\u001b[0m\u001b[0;34m\"幸夤遜\"\u001b[0m\u001b[0;34m)\u001b[0m\u001b[0;34m)\u001b[0m\u001b[0;34m\u001b[0m\u001b[0;34m\u001b[0m\u001b[0m\n",
      "\u001b[0;32m~/program/Novel_NLP/.venv/lib/python3.8/site-packages/sklearn/preprocessing/_encoders.py\u001b[0m in \u001b[0;36mfit\u001b[0;34m(self, X, y)\u001b[0m\n\u001b[1;32m    415\u001b[0m         \"\"\"\n\u001b[1;32m    416\u001b[0m         \u001b[0mself\u001b[0m\u001b[0;34m.\u001b[0m\u001b[0m_validate_keywords\u001b[0m\u001b[0;34m(\u001b[0m\u001b[0;34m)\u001b[0m\u001b[0;34m\u001b[0m\u001b[0;34m\u001b[0m\u001b[0m\n\u001b[0;32m--> 417\u001b[0;31m         self._fit(X, handle_unknown=self.handle_unknown,\n\u001b[0m\u001b[1;32m    418\u001b[0m                   force_all_finite='allow-nan')\n\u001b[1;32m    419\u001b[0m         \u001b[0mself\u001b[0m\u001b[0;34m.\u001b[0m\u001b[0mdrop_idx_\u001b[0m \u001b[0;34m=\u001b[0m \u001b[0mself\u001b[0m\u001b[0;34m.\u001b[0m\u001b[0m_compute_drop_idx\u001b[0m\u001b[0;34m(\u001b[0m\u001b[0;34m)\u001b[0m\u001b[0;34m\u001b[0m\u001b[0;34m\u001b[0m\u001b[0m\n",
      "\u001b[0;32m~/program/Novel_NLP/.venv/lib/python3.8/site-packages/sklearn/preprocessing/_encoders.py\u001b[0m in \u001b[0;36m_fit\u001b[0;34m(self, X, handle_unknown, force_all_finite)\u001b[0m\n\u001b[1;32m     75\u001b[0m \u001b[0;34m\u001b[0m\u001b[0m\n\u001b[1;32m     76\u001b[0m     \u001b[0;32mdef\u001b[0m \u001b[0m_fit\u001b[0m\u001b[0;34m(\u001b[0m\u001b[0mself\u001b[0m\u001b[0;34m,\u001b[0m \u001b[0mX\u001b[0m\u001b[0;34m,\u001b[0m \u001b[0mhandle_unknown\u001b[0m\u001b[0;34m=\u001b[0m\u001b[0;34m'error'\u001b[0m\u001b[0;34m,\u001b[0m \u001b[0mforce_all_finite\u001b[0m\u001b[0;34m=\u001b[0m\u001b[0;32mTrue\u001b[0m\u001b[0;34m)\u001b[0m\u001b[0;34m:\u001b[0m\u001b[0;34m\u001b[0m\u001b[0;34m\u001b[0m\u001b[0m\n\u001b[0;32m---> 77\u001b[0;31m         X_list, n_samples, n_features = self._check_X(\n\u001b[0m\u001b[1;32m     78\u001b[0m             X, force_all_finite=force_all_finite)\n\u001b[1;32m     79\u001b[0m \u001b[0;34m\u001b[0m\u001b[0m\n",
      "\u001b[0;32m~/program/Novel_NLP/.venv/lib/python3.8/site-packages/sklearn/preprocessing/_encoders.py\u001b[0m in \u001b[0;36m_check_X\u001b[0;34m(self, X, force_all_finite)\u001b[0m\n\u001b[1;32m     42\u001b[0m         \u001b[0;32mif\u001b[0m \u001b[0;32mnot\u001b[0m \u001b[0;34m(\u001b[0m\u001b[0mhasattr\u001b[0m\u001b[0;34m(\u001b[0m\u001b[0mX\u001b[0m\u001b[0;34m,\u001b[0m \u001b[0;34m'iloc'\u001b[0m\u001b[0;34m)\u001b[0m \u001b[0;32mand\u001b[0m \u001b[0mgetattr\u001b[0m\u001b[0;34m(\u001b[0m\u001b[0mX\u001b[0m\u001b[0;34m,\u001b[0m \u001b[0;34m'ndim'\u001b[0m\u001b[0;34m,\u001b[0m \u001b[0;36m0\u001b[0m\u001b[0;34m)\u001b[0m \u001b[0;34m==\u001b[0m \u001b[0;36m2\u001b[0m\u001b[0;34m)\u001b[0m\u001b[0;34m:\u001b[0m\u001b[0;34m\u001b[0m\u001b[0;34m\u001b[0m\u001b[0m\n\u001b[1;32m     43\u001b[0m             \u001b[0;31m# if not a dataframe, do normal check_array validation\u001b[0m\u001b[0;34m\u001b[0m\u001b[0;34m\u001b[0m\u001b[0;34m\u001b[0m\u001b[0m\n\u001b[0;32m---> 44\u001b[0;31m             X_temp = check_array(X, dtype=None,\n\u001b[0m\u001b[1;32m     45\u001b[0m                                  force_all_finite=force_all_finite)\n\u001b[1;32m     46\u001b[0m             if (not hasattr(X, 'dtype')\n",
      "\u001b[0;32m~/program/Novel_NLP/.venv/lib/python3.8/site-packages/sklearn/utils/validation.py\u001b[0m in \u001b[0;36minner_f\u001b[0;34m(*args, **kwargs)\u001b[0m\n\u001b[1;32m     61\u001b[0m             \u001b[0mextra_args\u001b[0m \u001b[0;34m=\u001b[0m \u001b[0mlen\u001b[0m\u001b[0;34m(\u001b[0m\u001b[0margs\u001b[0m\u001b[0;34m)\u001b[0m \u001b[0;34m-\u001b[0m \u001b[0mlen\u001b[0m\u001b[0;34m(\u001b[0m\u001b[0mall_args\u001b[0m\u001b[0;34m)\u001b[0m\u001b[0;34m\u001b[0m\u001b[0;34m\u001b[0m\u001b[0m\n\u001b[1;32m     62\u001b[0m             \u001b[0;32mif\u001b[0m \u001b[0mextra_args\u001b[0m \u001b[0;34m<=\u001b[0m \u001b[0;36m0\u001b[0m\u001b[0;34m:\u001b[0m\u001b[0;34m\u001b[0m\u001b[0;34m\u001b[0m\u001b[0m\n\u001b[0;32m---> 63\u001b[0;31m                 \u001b[0;32mreturn\u001b[0m \u001b[0mf\u001b[0m\u001b[0;34m(\u001b[0m\u001b[0;34m*\u001b[0m\u001b[0margs\u001b[0m\u001b[0;34m,\u001b[0m \u001b[0;34m**\u001b[0m\u001b[0mkwargs\u001b[0m\u001b[0;34m)\u001b[0m\u001b[0;34m\u001b[0m\u001b[0;34m\u001b[0m\u001b[0m\n\u001b[0m\u001b[1;32m     64\u001b[0m \u001b[0;34m\u001b[0m\u001b[0m\n\u001b[1;32m     65\u001b[0m             \u001b[0;31m# extra_args > 0\u001b[0m\u001b[0;34m\u001b[0m\u001b[0;34m\u001b[0m\u001b[0;34m\u001b[0m\u001b[0m\n",
      "\u001b[0;32m~/program/Novel_NLP/.venv/lib/python3.8/site-packages/sklearn/utils/validation.py\u001b[0m in \u001b[0;36mcheck_array\u001b[0;34m(array, accept_sparse, accept_large_sparse, dtype, order, copy, force_all_finite, ensure_2d, allow_nd, ensure_min_samples, ensure_min_features, estimator)\u001b[0m\n\u001b[1;32m    635\u001b[0m             \u001b[0;31m# If input is 1D raise error\u001b[0m\u001b[0;34m\u001b[0m\u001b[0;34m\u001b[0m\u001b[0;34m\u001b[0m\u001b[0m\n\u001b[1;32m    636\u001b[0m             \u001b[0;32mif\u001b[0m \u001b[0marray\u001b[0m\u001b[0;34m.\u001b[0m\u001b[0mndim\u001b[0m \u001b[0;34m==\u001b[0m \u001b[0;36m1\u001b[0m\u001b[0;34m:\u001b[0m\u001b[0;34m\u001b[0m\u001b[0;34m\u001b[0m\u001b[0m\n\u001b[0;32m--> 637\u001b[0;31m                 raise ValueError(\n\u001b[0m\u001b[1;32m    638\u001b[0m                     \u001b[0;34m\"Expected 2D array, got 1D array instead:\\narray={}.\\n\"\u001b[0m\u001b[0;34m\u001b[0m\u001b[0;34m\u001b[0m\u001b[0m\n\u001b[1;32m    639\u001b[0m                     \u001b[0;34m\"Reshape your data either using array.reshape(-1, 1) if \"\u001b[0m\u001b[0;34m\u001b[0m\u001b[0;34m\u001b[0m\u001b[0m\n",
      "\u001b[0;31mValueError\u001b[0m: Expected 2D array, got 1D array instead:\narray=['宋太祖' '宋太祖' '幸夤遜' ... '佚名' '佚名' '佚名'].\nReshape your data either using array.reshape(-1, 1) if your data has a single feature or array.reshape(1, -1) if it contains a single sample."
     ]
    }
   ],
   "source": [
    "from sklearn import preprocessing\n",
    "encoder = preprocessing.OneHotEncoder()\n",
    "# encoder.fit(poet.author.values)\n",
    "# print(encoder.transform(\"幸夤遜\"))\n",
    "el = ['']"
   ]
  },
  {
   "cell_type": "code",
   "execution_count": 17,
   "metadata": {},
   "outputs": [
    {
     "output_type": "error",
     "ename": "ModuleNotFoundError",
     "evalue": "No module named 'tknzr'",
     "traceback": [
      "\u001b[0;31m---------------------------------------------------------------------------\u001b[0m",
      "\u001b[0;31mModuleNotFoundError\u001b[0m                       Traceback (most recent call last)",
      "\u001b[0;32m<ipython-input-17-e2ce71af2987>\u001b[0m in \u001b[0;36m<module>\u001b[0;34m\u001b[0m\n\u001b[0;32m----> 1\u001b[0;31m \u001b[0;32mimport\u001b[0m \u001b[0msrc\u001b[0m\u001b[0;34m.\u001b[0m\u001b[0mtknzr\u001b[0m\u001b[0;34m.\u001b[0m\u001b[0m_jieba\u001b[0m\u001b[0;34m.\u001b[0m\u001b[0mjiebatknzr\u001b[0m\u001b[0;34m\u001b[0m\u001b[0;34m\u001b[0m\u001b[0m\n\u001b[0m\u001b[1;32m      2\u001b[0m \u001b[0;32mfor\u001b[0m \u001b[0mi\u001b[0m \u001b[0;32min\u001b[0m \u001b[0mrange\u001b[0m\u001b[0;34m(\u001b[0m\u001b[0mlen\u001b[0m\u001b[0;34m(\u001b[0m\u001b[0mpoet\u001b[0m\u001b[0;34m)\u001b[0m\u001b[0;34m)\u001b[0m\u001b[0;34m:\u001b[0m\u001b[0;34m\u001b[0m\u001b[0;34m\u001b[0m\u001b[0m\n\u001b[1;32m      3\u001b[0m     \u001b[0mprint\u001b[0m\u001b[0;34m(\u001b[0m\u001b[0mpoet\u001b[0m\u001b[0;34m.\u001b[0m\u001b[0miloc\u001b[0m\u001b[0;34m[\u001b[0m\u001b[0mi\u001b[0m\u001b[0;34m]\u001b[0m\u001b[0;34m[\u001b[0m\u001b[0;34m'paragraphs'\u001b[0m\u001b[0;34m]\u001b[0m\u001b[0;34m)\u001b[0m\u001b[0;34m\u001b[0m\u001b[0;34m\u001b[0m\u001b[0m\n\u001b[1;32m      4\u001b[0m     \u001b[0mpoet\u001b[0m\u001b[0;34m.\u001b[0m\u001b[0miloc\u001b[0m\u001b[0;34m[\u001b[0m\u001b[0mi\u001b[0m\u001b[0;34m]\u001b[0m\u001b[0;34m[\u001b[0m\u001b[0;34m'paragraphs'\u001b[0m\u001b[0;34m]\u001b[0m\u001b[0;34m\u001b[0m\u001b[0;34m\u001b[0m\u001b[0m\n\u001b[1;32m      5\u001b[0m \u001b[0;34m\u001b[0m\u001b[0m\n",
      "\u001b[0;32m~/program/Novel_NLP/src/tknzr/_jieba.py\u001b[0m in \u001b[0;36m<module>\u001b[0;34m\u001b[0m\n\u001b[0;32m----> 1\u001b[0;31m \u001b[0;32mfrom\u001b[0m \u001b[0mtknzr\u001b[0m\u001b[0;34m.\u001b[0m\u001b[0m_base\u001b[0m \u001b[0;32mimport\u001b[0m \u001b[0mbasetknzr\u001b[0m\u001b[0;34m\u001b[0m\u001b[0;34m\u001b[0m\u001b[0m\n\u001b[0m\u001b[1;32m      2\u001b[0m \u001b[0;31m# from utils.\u001b[0m\u001b[0;34m\u001b[0m\u001b[0;34m\u001b[0m\u001b[0;34m\u001b[0m\u001b[0m\n\u001b[1;32m      3\u001b[0m \u001b[0;32mimport\u001b[0m \u001b[0mjieba\u001b[0m\u001b[0;34m\u001b[0m\u001b[0;34m\u001b[0m\u001b[0m\n\u001b[1;32m      4\u001b[0m \u001b[0;34m\u001b[0m\u001b[0m\n\u001b[1;32m      5\u001b[0m \u001b[0;34m\u001b[0m\u001b[0m\n",
      "\u001b[0;31mModuleNotFoundError\u001b[0m: No module named 'tknzr'"
     ]
    }
   ],
   "source": [
    "import src.tknzr._jieba.jiebatknzr\n",
    "\n",
    "for i in range(len(poet)):\n",
    "    print(poet.iloc[i]['paragraphs'])\n",
    "    poet.iloc[i]['paragraphs']\n",
    "\n",
    "    break"
   ]
  },
  {
   "cell_type": "code",
   "execution_count": null,
   "metadata": {},
   "outputs": [],
   "source": []
  }
 ]
}